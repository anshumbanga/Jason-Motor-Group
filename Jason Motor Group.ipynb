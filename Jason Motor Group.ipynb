{
  "cells": [
    {
      "cell_type": "code",
      "execution_count": null,
      "id": "d7a195af-face-4e75-ba77-2561e92f6b89",
      "metadata": {
        "id": "d7a195af-face-4e75-ba77-2561e92f6b89"
      },
      "outputs": [],
      "source": [
        "# importing major libraries\n",
        "\n",
        "import numpy as np\n",
        "import pandas as pd\n",
        "import seaborn as sns\n",
        "import matplotlib.pyplot as plt\n",
        "import plotly.express as px\n",
        "import cufflinks as cf\n",
        "from plotly.offline import init_notebook_mode,download_plotlyjs\n",
        "cf.go_offline(connected=True)\n",
        "\n",
        "# importing additional libraries\n",
        "import warnings\n",
        "warnings.filterwarnings('ignore')"
      ]
    },
    {
      "cell_type": "code",
      "execution_count": null,
      "id": "dc12b114-c8d3-4c2b-9017-aab9368c3391",
      "metadata": {
        "id": "dc12b114-c8d3-4c2b-9017-aab9368c3391"
      },
      "outputs": [],
      "source": [
        "df = pd.read_csv('JMG_data.csv')"
      ]
    },
    {
      "cell_type": "markdown",
      "id": "ee8d67e3-610a-4178-ae20-c53eb7c6b1cf",
      "metadata": {
        "id": "ee8d67e3-610a-4178-ae20-c53eb7c6b1cf"
      },
      "source": [
        "# about the dataset\n",
        "This dataset contains records of vehicle listings from Craigslist contains most all relevant information that Craigslist provides on car sales such as price, condition, manufacturer, and other attributes."
      ]
    },
    {
      "cell_type": "code",
      "execution_count": null,
      "id": "f7e9487d-de60-46e8-8bcc-82622d3e5239",
      "metadata": {
        "id": "f7e9487d-de60-46e8-8bcc-82622d3e5239",
        "outputId": "461cdb2a-c480-469f-e218-c049619f6622"
      },
      "outputs": [
        {
          "data": {
            "text/plain": [
              "Index(['CarID', 'Listed_Price', 'Listed_Date', 'Make', 'Model', 'Year',\n",
              "       'Vehicle_Type', 'Size', 'Color', 'Transmission', 'Fuel_Type', 'Drive',\n",
              "       'Cylinders', 'Odometer', 'Condition', 'Title_Status', 'State',\n",
              "       'Region'],\n",
              "      dtype='object')"
            ]
          },
          "execution_count": 4,
          "metadata": {},
          "output_type": "execute_result"
        }
      ],
      "source": [
        "df.columns"
      ]
    },
    {
      "cell_type": "markdown",
      "id": "66ed4955-878c-4cb2-916d-928968d19140",
      "metadata": {
        "id": "66ed4955-878c-4cb2-916d-928968d19140"
      },
      "source": [
        "### Column Descriptions\n",
        "\n",
        "- **Car ID**: An automatically generated index column.  \n",
        "- **Listed_Price**: The listed price of the vehicle in USD.  \n",
        "- **Listed_Date**: The date when the vehicle listing was posted.  \n",
        "- **Make**: The name of the vehicle’s manufacturer.  \n",
        "- **Model**: The specific model name of the vehicle.  \n",
        "- **Year**: The build year of the vehicle.  \n",
        "- **Vehicle_Type**: The classification of the vehicle.  \n",
        "- **Size**: The size category of the vehicle.  \n",
        "- **Color**: The exterior colour of the vehicle.  \n",
        "- **Transmission**: The type of transmission (e.g., automatic, manual).  \n",
        "- **Fuel_Type**: The type of energy the vehicle uses (e.g., gas, diesel, hybrid, electric).  \n",
        "- **Drive**: The drivetrain configuration (e.g., FWD, RWD, AWD).  \n",
        "- **Cylinders**: The number of engine cylinders.  \n",
        "- **Odometer**: The vehicle’s mileage in miles.  \n",
        "- **Condition**: The condition of the vehicle provided by the seller.  \n",
        "- **Title_Status**: The legal status of the vehicle’s title.  \n",
        "- **State**: The state abbreviation where the vehicle is listed.  \n",
        "- **Region**: The region where the vehicle is listed for sale.  "
      ]
    },
    {
      "cell_type": "code",
      "execution_count": null,
      "id": "fa2a1042-315a-448a-85a1-932f0a7b883c",
      "metadata": {
        "id": "fa2a1042-315a-448a-85a1-932f0a7b883c",
        "outputId": "d1dc25de-8897-4013-b85a-fc86f9e4a4e7"
      },
      "outputs": [
        {
          "data": {
            "text/html": [
              "<div>\n",
              "<style scoped>\n",
              "    .dataframe tbody tr th:only-of-type {\n",
              "        vertical-align: middle;\n",
              "    }\n",
              "\n",
              "    .dataframe tbody tr th {\n",
              "        vertical-align: top;\n",
              "    }\n",
              "\n",
              "    .dataframe thead th {\n",
              "        text-align: right;\n",
              "    }\n",
              "</style>\n",
              "<table border=\"1\" class=\"dataframe\">\n",
              "  <thead>\n",
              "    <tr style=\"text-align: right;\">\n",
              "      <th></th>\n",
              "      <th>CarID</th>\n",
              "      <th>Listed_Price</th>\n",
              "      <th>Listed_Date</th>\n",
              "      <th>Make</th>\n",
              "      <th>Model</th>\n",
              "      <th>Year</th>\n",
              "      <th>Vehicle_Type</th>\n",
              "      <th>Size</th>\n",
              "      <th>Color</th>\n",
              "      <th>Transmission</th>\n",
              "      <th>Fuel_Type</th>\n",
              "      <th>Drive</th>\n",
              "      <th>Cylinders</th>\n",
              "      <th>Odometer</th>\n",
              "      <th>Condition</th>\n",
              "      <th>Title_Status</th>\n",
              "      <th>State</th>\n",
              "      <th>Region</th>\n",
              "    </tr>\n",
              "  </thead>\n",
              "  <tbody>\n",
              "    <tr>\n",
              "      <th>0</th>\n",
              "      <td>1246014</td>\n",
              "      <td>13987</td>\n",
              "      <td>2021-04-24T09:23:15-0500</td>\n",
              "      <td>chevrolet</td>\n",
              "      <td>silverado 1500</td>\n",
              "      <td>2007</td>\n",
              "      <td>truck</td>\n",
              "      <td>mid-size</td>\n",
              "      <td>red</td>\n",
              "      <td>automatic</td>\n",
              "      <td>gas</td>\n",
              "      <td>rwd</td>\n",
              "      <td>8.0</td>\n",
              "      <td>112709</td>\n",
              "      <td>excellent</td>\n",
              "      <td>clean</td>\n",
              "      <td>wi</td>\n",
              "      <td>appleton-oshkosh-FDL</td>\n",
              "    </tr>\n",
              "    <tr>\n",
              "      <th>1</th>\n",
              "      <td>692370</td>\n",
              "      <td>2800</td>\n",
              "      <td>2021-04-15T22:07:43-0400</td>\n",
              "      <td>toyota</td>\n",
              "      <td>4runner</td>\n",
              "      <td>1999</td>\n",
              "      <td>SUV</td>\n",
              "      <td>full-size</td>\n",
              "      <td>silver</td>\n",
              "      <td>automatic</td>\n",
              "      <td>gas</td>\n",
              "      <td>rwd</td>\n",
              "      <td>6.0</td>\n",
              "      <td>297053</td>\n",
              "      <td>good</td>\n",
              "      <td>clean</td>\n",
              "      <td>nc</td>\n",
              "      <td>asheville</td>\n",
              "    </tr>\n",
              "    <tr>\n",
              "      <th>2</th>\n",
              "      <td>242958</td>\n",
              "      <td>1750</td>\n",
              "      <td>2021-05-02T13:02:12-0600</td>\n",
              "      <td>ford</td>\n",
              "      <td>escape xlt awd</td>\n",
              "      <td>2003</td>\n",
              "      <td>SUV</td>\n",
              "      <td>mid-size</td>\n",
              "      <td>grey</td>\n",
              "      <td>automatic</td>\n",
              "      <td>gas</td>\n",
              "      <td>4wd</td>\n",
              "      <td>6.0</td>\n",
              "      <td>142500</td>\n",
              "      <td>good</td>\n",
              "      <td>clean</td>\n",
              "      <td>co</td>\n",
              "      <td>pueblo</td>\n",
              "    </tr>\n",
              "    <tr>\n",
              "      <th>3</th>\n",
              "      <td>310455</td>\n",
              "      <td>9200</td>\n",
              "      <td>2021-04-12T12:20:38-0400</td>\n",
              "      <td>dodge</td>\n",
              "      <td>journey</td>\n",
              "      <td>2015</td>\n",
              "      <td>SUV</td>\n",
              "      <td>full-size</td>\n",
              "      <td>white</td>\n",
              "      <td>automatic</td>\n",
              "      <td>gas</td>\n",
              "      <td>fwd</td>\n",
              "      <td>6.0</td>\n",
              "      <td>111000</td>\n",
              "      <td>excellent</td>\n",
              "      <td>clean</td>\n",
              "      <td>fl</td>\n",
              "      <td>ocala</td>\n",
              "    </tr>\n",
              "    <tr>\n",
              "      <th>4</th>\n",
              "      <td>800040</td>\n",
              "      <td>9900</td>\n",
              "      <td>2021-04-30T13:36:13-0400</td>\n",
              "      <td>toyota</td>\n",
              "      <td>rav4 awd</td>\n",
              "      <td>2010</td>\n",
              "      <td>SUV</td>\n",
              "      <td>mid-size</td>\n",
              "      <td>grey</td>\n",
              "      <td>automatic</td>\n",
              "      <td>gas</td>\n",
              "      <td>4wd</td>\n",
              "      <td>4.0</td>\n",
              "      <td>112000</td>\n",
              "      <td>good</td>\n",
              "      <td>clean</td>\n",
              "      <td>ny</td>\n",
              "      <td>buffalo</td>\n",
              "    </tr>\n",
              "  </tbody>\n",
              "</table>\n",
              "</div>"
            ],
            "text/plain": [
              "     CarID  Listed_Price               Listed_Date       Make           Model  \\\n",
              "0  1246014         13987  2021-04-24T09:23:15-0500  chevrolet  silverado 1500   \n",
              "1   692370          2800  2021-04-15T22:07:43-0400     toyota         4runner   \n",
              "2   242958          1750  2021-05-02T13:02:12-0600       ford  escape xlt awd   \n",
              "3   310455          9200  2021-04-12T12:20:38-0400      dodge         journey   \n",
              "4   800040          9900  2021-04-30T13:36:13-0400     toyota        rav4 awd   \n",
              "\n",
              "   Year Vehicle_Type       Size   Color Transmission Fuel_Type Drive  \\\n",
              "0  2007        truck   mid-size     red    automatic       gas   rwd   \n",
              "1  1999          SUV  full-size  silver    automatic       gas   rwd   \n",
              "2  2003          SUV   mid-size    grey    automatic       gas   4wd   \n",
              "3  2015          SUV  full-size   white    automatic       gas   fwd   \n",
              "4  2010          SUV   mid-size    grey    automatic       gas   4wd   \n",
              "\n",
              "   Cylinders  Odometer  Condition Title_Status State                Region  \n",
              "0        8.0    112709  excellent        clean    wi  appleton-oshkosh-FDL  \n",
              "1        6.0    297053       good        clean    nc             asheville  \n",
              "2        6.0    142500       good        clean    co                pueblo  \n",
              "3        6.0    111000  excellent        clean    fl                 ocala  \n",
              "4        4.0    112000       good        clean    ny               buffalo  "
            ]
          },
          "execution_count": 5,
          "metadata": {},
          "output_type": "execute_result"
        }
      ],
      "source": [
        "# overview of data\n",
        "\n",
        "df.head()"
      ]
    },
    {
      "cell_type": "code",
      "execution_count": null,
      "id": "f92a6699-b856-48bf-bd98-7fcedfaebe1e",
      "metadata": {
        "id": "f92a6699-b856-48bf-bd98-7fcedfaebe1e"
      },
      "outputs": [],
      "source": [
        "# converting Listed_Date into Date Time\n",
        "df['Listed_Date'] = pd.to_datetime(df['Listed_Date'])"
      ]
    },
    {
      "cell_type": "code",
      "execution_count": null,
      "id": "8a021558-5f8a-48cd-9c4c-f8051f07ad8c",
      "metadata": {
        "id": "8a021558-5f8a-48cd-9c4c-f8051f07ad8c",
        "outputId": "b9e6277e-88ac-48a6-ffd6-fbfda71de6c0"
      },
      "outputs": [
        {
          "data": {
            "text/html": [
              "<div>\n",
              "<style scoped>\n",
              "    .dataframe tbody tr th:only-of-type {\n",
              "        vertical-align: middle;\n",
              "    }\n",
              "\n",
              "    .dataframe tbody tr th {\n",
              "        vertical-align: top;\n",
              "    }\n",
              "\n",
              "    .dataframe thead th {\n",
              "        text-align: right;\n",
              "    }\n",
              "</style>\n",
              "<table border=\"1\" class=\"dataframe\">\n",
              "  <thead>\n",
              "    <tr style=\"text-align: right;\">\n",
              "      <th></th>\n",
              "      <th>CarID</th>\n",
              "      <th>Listed_Price</th>\n",
              "      <th>Year</th>\n",
              "      <th>Cylinders</th>\n",
              "      <th>Odometer</th>\n",
              "    </tr>\n",
              "  </thead>\n",
              "  <tbody>\n",
              "    <tr>\n",
              "      <th>count</th>\n",
              "      <td>6.294600e+04</td>\n",
              "      <td>62946.000000</td>\n",
              "      <td>62946.000000</td>\n",
              "      <td>62572.000000</td>\n",
              "      <td>6.294600e+04</td>\n",
              "    </tr>\n",
              "    <tr>\n",
              "      <th>mean</th>\n",
              "      <td>6.447435e+05</td>\n",
              "      <td>12972.070410</td>\n",
              "      <td>2008.470642</td>\n",
              "      <td>5.964505</td>\n",
              "      <td>1.250213e+05</td>\n",
              "    </tr>\n",
              "    <tr>\n",
              "      <th>std</th>\n",
              "      <td>3.607982e+05</td>\n",
              "      <td>11740.560353</td>\n",
              "      <td>9.892727</td>\n",
              "      <td>1.651513</td>\n",
              "      <td>2.424812e+05</td>\n",
              "    </tr>\n",
              "    <tr>\n",
              "      <th>min</th>\n",
              "      <td>9.300000e+01</td>\n",
              "      <td>0.000000</td>\n",
              "      <td>1900.000000</td>\n",
              "      <td>3.000000</td>\n",
              "      <td>0.000000e+00</td>\n",
              "    </tr>\n",
              "    <tr>\n",
              "      <th>25%</th>\n",
              "      <td>3.366578e+05</td>\n",
              "      <td>4995.000000</td>\n",
              "      <td>2006.000000</td>\n",
              "      <td>4.000000</td>\n",
              "      <td>7.404250e+04</td>\n",
              "    </tr>\n",
              "    <tr>\n",
              "      <th>50%</th>\n",
              "      <td>6.484725e+05</td>\n",
              "      <td>9000.000000</td>\n",
              "      <td>2011.000000</td>\n",
              "      <td>6.000000</td>\n",
              "      <td>1.149170e+05</td>\n",
              "    </tr>\n",
              "    <tr>\n",
              "      <th>75%</th>\n",
              "      <td>9.416182e+05</td>\n",
              "      <td>17500.000000</td>\n",
              "      <td>2014.000000</td>\n",
              "      <td>8.000000</td>\n",
              "      <td>1.560000e+05</td>\n",
              "    </tr>\n",
              "    <tr>\n",
              "      <th>max</th>\n",
              "      <td>1.280508e+06</td>\n",
              "      <td>75000.000000</td>\n",
              "      <td>2022.000000</td>\n",
              "      <td>12.000000</td>\n",
              "      <td>1.000000e+07</td>\n",
              "    </tr>\n",
              "  </tbody>\n",
              "</table>\n",
              "</div>"
            ],
            "text/plain": [
              "              CarID  Listed_Price          Year     Cylinders      Odometer\n",
              "count  6.294600e+04  62946.000000  62946.000000  62572.000000  6.294600e+04\n",
              "mean   6.447435e+05  12972.070410   2008.470642      5.964505  1.250213e+05\n",
              "std    3.607982e+05  11740.560353      9.892727      1.651513  2.424812e+05\n",
              "min    9.300000e+01      0.000000   1900.000000      3.000000  0.000000e+00\n",
              "25%    3.366578e+05   4995.000000   2006.000000      4.000000  7.404250e+04\n",
              "50%    6.484725e+05   9000.000000   2011.000000      6.000000  1.149170e+05\n",
              "75%    9.416182e+05  17500.000000   2014.000000      8.000000  1.560000e+05\n",
              "max    1.280508e+06  75000.000000   2022.000000     12.000000  1.000000e+07"
            ]
          },
          "execution_count": 8,
          "metadata": {},
          "output_type": "execute_result"
        }
      ],
      "source": [
        "# seeking decription of the dataset\n",
        "df.describe()"
      ]
    },
    {
      "cell_type": "markdown",
      "id": "c0f9d312-e7ad-4356-99a4-0f160d3f3740",
      "metadata": {
        "id": "c0f9d312-e7ad-4356-99a4-0f160d3f3740"
      },
      "source": [
        "\n",
        "### **Interpretation & Insights**\n",
        "\n",
        "- **Listed_Price**  \n",
        "  The average listed price is around 13,000. Most vehicles are priced between 5,000 and 17,500. There are **entries with a price of 0 or as high as 75,000, indicating possible outliers** or data entry issues.\n",
        "\n",
        "- **Year**  \n",
        "  The vehicle manufacturing years range from 1900 to 2022. The **lower extreme (1900) is likely an error.** Most vehicles fall between 2006 and 2014, with the median year being 2011.\n",
        "\n",
        "- **Cylinders**  \n",
        "  Most cars have between 4 and 8 cylinders. Some listings have **unusual values like 3 or 12 cylinders.** A few values are missing, which may need to be handled during data preprocessing.\n",
        "\n",
        "- **Odometer**  \n",
        "  The mileage values **range from 0 to 10 million miles.** The median mileage is approximately 115,000 miles. **Extremely high values suggest the presence of outliers.** Entries with 0 mileage likely represent missing or incorrect data."
      ]
    },
    {
      "cell_type": "code",
      "execution_count": null,
      "id": "6513aa51-a279-4954-9b2b-48d07986aec2",
      "metadata": {
        "id": "6513aa51-a279-4954-9b2b-48d07986aec2",
        "outputId": "1685c3cc-b4d8-45e5-c82f-022d0d7fa879"
      },
      "outputs": [
        {
          "name": "stdout",
          "output_type": "stream",
          "text": [
            "<class 'pandas.core.frame.DataFrame'>\n",
            "RangeIndex: 62946 entries, 0 to 62945\n",
            "Data columns (total 18 columns):\n",
            " #   Column        Non-Null Count  Dtype  \n",
            "---  ------        --------------  -----  \n",
            " 0   CarID         62946 non-null  int64  \n",
            " 1   Listed_Price  62946 non-null  int64  \n",
            " 2   Listed_Date   62946 non-null  object \n",
            " 3   Make          62946 non-null  object \n",
            " 4   Model         62946 non-null  object \n",
            " 5   Year          62946 non-null  int64  \n",
            " 6   Vehicle_Type  62946 non-null  object \n",
            " 7   Size          62946 non-null  object \n",
            " 8   Color         62946 non-null  object \n",
            " 9   Transmission  62946 non-null  object \n",
            " 10  Fuel_Type     62946 non-null  object \n",
            " 11  Drive         62946 non-null  object \n",
            " 12  Cylinders     62572 non-null  float64\n",
            " 13  Odometer      62946 non-null  int64  \n",
            " 14  Condition     62946 non-null  object \n",
            " 15  Title_Status  62946 non-null  object \n",
            " 16  State         62946 non-null  object \n",
            " 17  Region        62645 non-null  object \n",
            "dtypes: float64(1), int64(4), object(13)\n",
            "memory usage: 8.6+ MB\n"
          ]
        }
      ],
      "source": [
        "# seeking information from the dataset\n",
        "\n",
        "df.info()"
      ]
    },
    {
      "cell_type": "markdown",
      "id": "0c1a9f60-3fdc-47b9-9112-d2c8c9df7b1f",
      "metadata": {
        "id": "0c1a9f60-3fdc-47b9-9112-d2c8c9df7b1f"
      },
      "source": [
        "### **Interpretation & Insights**\n",
        "\n",
        "- **Dataset Size and Shape**  \n",
        "  The dataset contains **62,946 records** and **18 columns**.\n",
        "\n",
        "- **Data Types**  \n",
        "  - Majority of the columns are of **object (categorical)** type (13 out of 18), indicating the need for **categorical encoding** before model training.\n",
        "  - Numerical columns include: `Listed_Price`, `Year`, `Cylinders`, and `Odometer`.\n",
        "\n",
        "- **Missing Values**  \n",
        "  - `Cylinders` has **374 missing entries**, which could be imputed using median/mode or predicted based on other vehicle specs.\n",
        "  - `Region` has **301 missing entries**, which might be recoverable from state or could be labeled as 'Unknown'.\n"
      ]
    },
    {
      "cell_type": "code",
      "execution_count": null,
      "id": "a37a4a79-b207-4459-8b7d-5681fb11a5db",
      "metadata": {
        "id": "a37a4a79-b207-4459-8b7d-5681fb11a5db"
      },
      "outputs": [],
      "source": []
    }
  ],
  "metadata": {
    "kernelspec": {
      "display_name": "Python 3 (ipykernel)",
      "language": "python",
      "name": "python3"
    },
    "language_info": {
      "codemirror_mode": {
        "name": "ipython",
        "version": 3
      },
      "file_extension": ".py",
      "mimetype": "text/x-python",
      "name": "python",
      "nbconvert_exporter": "python",
      "pygments_lexer": "ipython3",
      "version": "3.11.7"
    },
    "colab": {
      "provenance": []
    }
  },
  "nbformat": 4,
  "nbformat_minor": 5
}